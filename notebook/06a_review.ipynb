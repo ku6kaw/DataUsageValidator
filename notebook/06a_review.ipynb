# LLM予測結果のレビューと正解データの修正

## 目的
このノートブックの目的は、LLMによるデータ利用判定結果と人間の手動アノテーション（正解データ）を比較し、判断が食い違った論文を特定することです。これにより、正解データの品質を向上させたり、LLMモデルの改善点を見つけたりするための「怪しい」サンプルを抽出します。また、必要に応じて正解データに手動修正を適用する機能も提供します。

## 達成状況
- 正解データ (`annotation_target_list.csv`)、LLM予測結果 (`prediction_llm.csv`)、および全文テキスト (`samples_with_text.csv`) を読み込み、結合しました。
- 最もパフォーマンスの良いLLMモデル（例: `prediction_rule3_gemini-2_5-flash`）を選択し、その予測結果と正解データを比較しました。
- 人間の判断とLLMの判断が食い違った論文のリストを抽出し、DOI、タイトル、それぞれの判断結果を表示しました。
- 食い違った論文について、LLMに再確認を促すための詳細なプロンプトを自動生成し、表示しました。
- 手動で定義された修正を正解データCSVファイルに適用し、更新する機能を提供しました。

## 成果物
- 人間の判断とLLMの判断が食い違った論文のリスト。
- LLMに再確認を促すための生成済みプロンプト。
- 更新された `annotation_target_list.csv` (手動修正が適用された場合)。

---

import pandas as pd
import os
import sys

# srcディレクトリをパスに追加
sys.path.append(os.path.abspath(os.path.join(os.getcwd(), '..')))

from src.review_and_correction import main_review_and_correction
from src.config import (
    OUTPUT_FILE_ANNOTATION_TARGET_LIST,
    OUTPUT_FILE_PREDICTION_LLM,
    OUTPUT_FILE_SAMPLES_WITH_TEXT
)

# --- 設定項目 ---
# レビュー対象とするLLM予測結果のカラム名
# 評価結果に基づいて最適なモデルを選択してください
BEST_MODEL_COLUMN = 'prediction_rule3_gemini-2_5-flash' 

# 手動修正を適用する場合、以下の辞書にDOIと正しいラベルを記入してください
# 例: corrections_to_apply = {
#         "10.1016/j.jprot.2022.104578": 1, # このDOIのラベルを1に修正
#         "10.1016/j.ccell.2021.04.015": 0  # このDOIのラベルを0に修正
#     }
corrections_to_apply = {
    # ↓↓↓ ここに修正したいDOIと最終的な正しいラベルを記入 ↓↓↓
    
    
    # ↑↑↑ ここまで ↑↑↑
}

# --- メイン処理 ---
if __name__ == "__main__":
    main_review_and_correction(
        best_model_column=BEST_MODEL_COLUMN,
        corrections=corrections_to_apply
    )
