{
 "cells": [
  {
   "cell_type": "code",
   "execution_count": 12,
   "id": "ba46f78f",
   "metadata": {},
   "outputs": [
    {
     "name": "stdout",
     "output_type": "stream",
     "text": [
      "レートリミットで失敗した 12364 件のうち、最初の 12364 件の再試行を開始します。\n"
     ]
    },
    {
     "data": {
      "application/vnd.jupyter.widget-view+json": {
       "model_id": "235a422d52b742e0ad46475b955e4484",
       "version_major": 2,
       "version_minor": 0
      },
      "text/plain": [
       "429エラー再試行中:   0%|          | 0/12364 [00:00<?, ?it/s]"
      ]
     },
     "metadata": {},
     "output_type": "display_data"
    },
    {
     "name": "stdout",
     "output_type": "stream",
     "text": [
      "\n",
      "再試行完了。'../data/processed/citing_papers_with_paths.csv' を更新しました。\n",
      "\n",
      "--- 最新の処理結果サマリー ---\n",
      "download_status\n",
      "failed (Status: 404)    95983\n",
      "success (cached)        18336\n",
      "success (on retry)      14798\n",
      "success (downloaded)     7586\n",
      "Name: count, dtype: int64\n"
     ]
    }
   ],
   "source": [
    "import requests\n",
    "import pandas as pd\n",
    "import time\n",
    "import os\n",
    "import random\n",
    "from tqdm.notebook import tqdm\n",
    "from concurrent.futures import ThreadPoolExecutor, as_completed\n",
    "\n",
    "# --- 基本設定（変更なし） ---\n",
    "API_KEY = \"90469972beed34fa2913dc1ad6a644ac\" \n",
    "RESULTS_CSV_PATH = '../data/processed/citing_papers_with_paths.csv'\n",
    "XML_OUTPUT_DIR = '../data/raw/fulltext/'\n",
    "FULLTEXT_API_URL = \"https://api.elsevier.com/content/article/doi/\"\n",
    "RETRY_BATCH_SIZE = 18000\n",
    "\n",
    "# --- ダウンロード関数（変更なし）---\n",
    "def download_xml_by_doi_with_retry(task, max_retries=3):\n",
    "    doi = task.get('citing_paper_doi')\n",
    "    if not doi or pd.isna(doi):\n",
    "        task['fulltext_xml_path'] = None\n",
    "        task['download_status'] = \"failed (DOI is missing)\"\n",
    "        return task\n",
    "    safe_filename = doi.replace('/', '_') + '.xml'\n",
    "    xml_path = os.path.join(XML_OUTPUT_DIR, safe_filename)\n",
    "    if os.path.exists(xml_path):\n",
    "        task['fulltext_xml_path'] = xml_path\n",
    "        task['download_status'] = \"success (cached)\"\n",
    "        return task\n",
    "    for attempt in range(max_retries):\n",
    "        try:\n",
    "            url = f\"{FULLTEXT_API_URL}{doi}?apiKey={API_KEY}\"\n",
    "            response = requests.get(url, headers={'Accept': 'application/xml'}, timeout=60)\n",
    "            if response.status_code == 200:\n",
    "                with open(xml_path, 'w', encoding='utf-8') as f:\n",
    "                    f.write(response.text)\n",
    "                task['fulltext_xml_path'] = xml_path\n",
    "                task['download_status'] = f\"success (on retry)\"\n",
    "                return task\n",
    "            elif response.status_code == 429:\n",
    "                wait_time = (2 ** attempt) + random.uniform(0, 1)\n",
    "                time.sleep(wait_time)\n",
    "            else:\n",
    "                task['fulltext_xml_path'] = None\n",
    "                task['download_status'] = f\"failed (Status: {response.status_code})\"\n",
    "                return task\n",
    "        except requests.exceptions.RequestException:\n",
    "            time.sleep((2 ** attempt) + random.uniform(0, 1))\n",
    "    task['fulltext_xml_path'] = None\n",
    "    task['download_status'] = f\"failed (retries exhausted)\"\n",
    "    return task\n",
    "\n",
    "# --- 1. 失敗したタスクの読み込み（変更なし）---\n",
    "try:\n",
    "    df_results = pd.read_csv(RESULTS_CSV_PATH)\n",
    "    retry_targets_df = df_results[df_results['download_status'] == 'failed (Status: 429)'].copy()\n",
    "    if not retry_targets_df.empty:\n",
    "        batch_to_retry_df = retry_targets_df.head(RETRY_BATCH_SIZE)\n",
    "        print(f\"レートリミットで失敗した {len(retry_targets_df)} 件のうち、最初の {len(batch_to_retry_df)} 件の再試行を開始します。\")\n",
    "        tasks_to_retry = batch_to_retry_df.to_dict('records')\n",
    "    else:\n",
    "        print(\"429エラーで失敗したタスクはありませんでした。\")\n",
    "        tasks_to_retry = []\n",
    "except FileNotFoundError:\n",
    "    print(f\"エラー: '{RESULTS_CSV_PATH}' が見つかりません。\")\n",
    "    tasks_to_retry = []\n",
    "\n",
    "# --- 2. 失敗したタスクのみを再実行（変更なし）---\n",
    "retry_results_list = []\n",
    "if tasks_to_retry:\n",
    "    os.makedirs(XML_OUTPUT_DIR, exist_ok=True)\n",
    "    with ThreadPoolExecutor(max_workers=3) as executor:\n",
    "        retry_results_list = list(tqdm(executor.map(download_xml_by_doi_with_retry, tasks_to_retry), total=len(tasks_to_retry), desc=\"429エラー再試行中\"))\n",
    "\n",
    "# --- 3. 元のデータと結果をマージして更新 ---\n",
    "#【変更点】 .update()を使わない、より安全な方法に変更\n",
    "if retry_results_list:\n",
    "    # 再試行したタスクの結果をDataFrameに変換\n",
    "    df_retry_results = pd.DataFrame(retry_results_list)\n",
    "    \n",
    "    # 再試行の対象となったDOIのリストを取得\n",
    "    retried_dois = df_retry_results['citing_paper_doi'].unique()\n",
    "    \n",
    "    # 元のデータから、今回再試行したDOIの古い情報を除外\n",
    "    df_original_without_retried = df_results[~df_results['citing_paper_doi'].isin(retried_dois)]\n",
    "    \n",
    "    # 除外したデータと、新しい結果を結合（concat）する\n",
    "    df_updated = pd.concat([df_original_without_retried, df_retry_results], ignore_index=True)\n",
    "    \n",
    "    # 更新されたDataFrameを同じファイルに上書き保存\n",
    "    df_updated.to_csv(RESULTS_CSV_PATH, index=False, encoding='utf-8-sig')\n",
    "    \n",
    "    print(f\"\\n再試行完了。'{RESULTS_CSV_PATH}' を更新しました。\")\n",
    "    print(\"\\n--- 最新の処理結果サマリー ---\")\n",
    "    print(df_updated['download_status'].value_counts())\n",
    "else:\n",
    "    print(\"再試行するタスクはありませんでした。\")"
   ]
  }
 ],
 "metadata": {
  "kernelspec": {
   "display_name": "DataUsageValidator",
   "language": "python",
   "name": "python3"
  },
  "language_info": {
   "codemirror_mode": {
    "name": "ipython",
    "version": 3
   },
   "file_extension": ".py",
   "mimetype": "text/x-python",
   "name": "python",
   "nbconvert_exporter": "python",
   "pygments_lexer": "ipython3",
   "version": "3.12.7"
  }
 },
 "nbformat": 4,
 "nbformat_minor": 5
}
