# 評価結果の分析

## 目的
このノートブックの目的は、ルールベースおよびLLMベースのデータ利用判定結果を、正解データと比較して評価指標（精度、再現率、F1スコアなど）を計算し、各モデルのパフォーマンスを分析することです。

## 達成状況
- 正解データ (`annotation_target_list.csv`)、ルールベースの特徴量 (`features_for_evaluation.csv`)、LLM予測結果 (`prediction_llm.csv`) を読み込み、結合しました。
- 複数のハイブリッド予測手法（例: Rule 2 AND LLM予測）を生成しました。
- 各ルールおよびハイブリッド手法について、真陽性 (TP)、真陰性 (TN)、偽陽性 (FP)、偽陰性 (FN) を含む混同行列を計算しました。
- 精度 (Accuracy)、適合率 (Precision)、再現率 (Recall)、F1スコアを計算し、結果を `results/tables/evaluation_metrics_summary.csv` に保存しました。
- 階層的ハイブリッドモデルの評価も行いました。

## 成果物
- `evaluation_metrics_summary.csv`: 各モデルの評価指標をまとめたCSVファイル。
- `evaluation_metrics_hierarchical.csv`: 階層的ハイブリッドモデルを含む詳細な評価指標。

---

import pandas as pd
import os
import sys

# srcディレクトリをパスに追加
sys.path.append(os.path.abspath(os.path.join(os.getcwd(), '..')))

from src.evaluation import main_analyze_results
from src.config import (
    OUTPUT_FILE_ANNOTATION_TARGET_LIST,
    OUTPUT_FILE_FEATURES_FOR_EVALUATION,
    OUTPUT_FILE_PREDICTION_LLM
)

# --- メイン処理 ---
if __name__ == "__main__":
    pd.set_option('display.precision', 3) # 表示精度を設定
    
    # 全モデルの評価結果を生成
    main_analyze_results(
        ground_truth_csv=OUTPUT_FILE_ANNOTATION_TARGET_LIST,
        features_csv=OUTPUT_FILE_FEATURES_FOR_EVALUATION,
        llm_predictions_csv=OUTPUT_FILE_PREDICTION_LLM,
        output_file_name='evaluation_metrics_all_models.csv' # 全モデル比較用
    )

    # 階層的ハイブリッドモデルを含む評価結果を生成
    main_analyze_results(
        ground_truth_csv=OUTPUT_FILE_ANNOTATION_TARGET_LIST,
        features_csv=OUTPUT_FILE_FEATURES_FOR_EVALUATION,
        llm_predictions_csv=OUTPUT_FILE_PREDICTION_LLM,
        output_file_name='evaluation_metrics_hierarchical.csv' # 階層的ハイブリッドモデル用
    )

    # 主要な4つのモデルに絞ったサマリー評価結果を生成
    # (必要に応じて、ground_truth_csvをannotation_target_list_updated.csvに変更)
    main_analyze_results(
        ground_truth_csv=OUTPUT_FILE_ANNOTATION_TARGET_LIST,
        features_csv=OUTPUT_FILE_FEATURES_FOR_EVALUATION,
        llm_predictions_csv=OUTPUT_FILE_PREDICTION_LLM,
        output_file_name='evaluation_metrics_summary.csv' # 主要モデルサマリー用
    )
