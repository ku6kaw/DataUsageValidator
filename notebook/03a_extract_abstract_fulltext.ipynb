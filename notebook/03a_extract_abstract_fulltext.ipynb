# アブストラクトと全文テキストの抽出

## 目的
このノートブックの目的は、アノテーション対象として選定された引用論文の全文XMLファイルから、アブストラクトとクリーンな全文テキストを抽出することです。これらのテキストは、後のLLMによるデータ利用検証の入力として使用されます。

## 達成状況
- `annotation_target_list.csv` と `citing_papers_with_paths.csv` を読み込み、処理対象の論文リストを準備しました。
- 各論文のXMLファイルから、複数のパターンを試行してアブストラクトを堅牢に抽出しました。
- 図表、参考文献、数式などの不要な要素を除外し、クリーンな全文テキストを抽出しました。
- 抽出されたアブストラクトと全文テキストを `data/processed/samples_with_text.csv` に保存しました。

## 成果物
- `samples_with_text.csv`: 各論文のアブストラクトと全文テキストを含むCSVファイル。

---

import pandas as pd
import os
import sys

# srcディレクトリをパスに追加
sys.path.append(os.path.abspath(os.path.join(os.getcwd(), '..')))

from src.data_processor import extract_text_from_xml_files
from src.config import (
    OUTPUT_FILE_ANNOTATION_TARGET_LIST,
    OUTPUT_FILE_CITING_PAPERS_WITH_PATHS,
    OUTPUT_DIR_PROCESSED,
    OUTPUT_FILE_SAMPLES_WITH_TEXT
)

# --- メイン処理 ---
if __name__ == "__main__":
    extract_text_from_xml_files(
        annotation_list_csv=OUTPUT_FILE_ANNOTATION_TARGET_LIST,
        master_list_csv=OUTPUT_FILE_CITING_PAPERS_WITH_PATHS,
        output_dir=OUTPUT_DIR_PROCESSED,
        output_file_name=OUTPUT_FILE_SAMPLES_WITH_TEXT
    )
