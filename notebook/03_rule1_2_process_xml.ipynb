# ルールベースの特徴量抽出と判定 (Rule 1 & 2)

## 目的
このノートブックの目的は、アノテーション対象として選定された引用論文の全文XMLを解析し、データ利用の有無を判定するためのルールベースの特徴量（引用回数、引用セクション）を抽出し、初期判定を行うことです。

## 達成状況
- `annotation_target_list.csv` と `citing_papers_with_paths.csv` を読み込み、アノテーション対象論文のXMLパス情報を取得しました。
- 各XMLファイルについて、以下の処理を実行しました。
    - 参考文献リストからデータ論文のRef IDを特定。
    - 論文本文のセクション構造を解析し、各セクション内の引用を抽出。
    - データ論文が引用されている回数（`mention_count`）をカウント。
    - データ論文が引用されているセクション（`mentioned_sections`）を特定。
    - ルール1: 引用回数が2回以上であればデータ利用あり（`prediction_rule1`）。
    - ルール2: データ、メソッド、実験などのキーワードを含むセクションで引用されていればデータ利用あり（`prediction_rule2`）。
- 抽出された特徴量と判定結果を `data/processed/features_for_evaluation.csv` に保存しました。

## 成果物
- `features_for_evaluation.csv`: 各論文の抽出された特徴量とルールベースの初期判定結果。

---

import pandas as pd
import os
import sys

# srcディレクトリをパスに追加
sys.path.append(os.path.abspath(os.path.join(os.getcwd(), '..')))

from src.xml_processor import process_xml_for_features
from src.config import (
    OUTPUT_FILE_CITING_PAPERS_WITH_PATHS,
    OUTPUT_DIR_PROCESSED
)

# --- 設定項目 ---
ANNOTATION_LIST_CSV = '../data/ground_truth/annotation_target_list.csv'
MASTER_LIST_CSV = OUTPUT_FILE_CITING_PAPERS_WITH_PATHS
OUTPUT_FILE_FEATURES = 'features_for_evaluation.csv'

# --- メイン処理 ---
if __name__ == "__main__":
    try:
        df_targets = pd.read_csv(ANNOTATION_LIST_CSV)
        df_master = pd.read_csv(MASTER_LIST_CSV)
        
        process_xml_for_features(
            df_targets=df_targets,
            df_master=df_master,
            output_dir=OUTPUT_DIR_PROCESSED,
            output_file_name=OUTPUT_FILE_FEATURES
        )
    except FileNotFoundError as e:
        print(f"必要なファイルが見つかりません: {e}")
    except Exception as e:
        print(f"エラーが発生しました: {e}")
