# 引用論文収集の検証

## 目的
このノートブックの目的は、`02_collect_citing_papers.ipynb` で収集した引用論文のデータとダウンロードされたXMLファイルの整合性を検証することです。

## 達成状況
- `citing_papers_with_paths.csv` を読み込み、記録されている論文総数を確認しました。
- ダウンロードステータスのサマリーを表示し、成功、失敗、キャッシュなどの内訳を把握しました。
- ダウンロード成功と記録されている論文について、対応するXMLファイルが実際にディスク上に存在するかをチェックしました。
- ファイルが見つからない場合は警告を表示し、整合性の問題がある論文を特定しました。

## 成果物
- ダウンロード結果の信頼性に関する検証レポート。
- 欠落しているXMLファイルやダウンロードステータスの問題点の特定。

---

import pandas as pd
import os
import sys

# srcディレクトリをパスに追加
sys.path.append(os.path.abspath(os.path.join(os.getcwd(), '..')))

from src.data_verification import (
    load_citing_papers_results,
    summarize_download_status,
    verify_xml_file_existence
)
from src.config import OUTPUT_FILE_CITING_PAPERS_WITH_PATHS

# --- メイン処理 ---
if __name__ == "__main__":
    df_results = load_citing_papers_results(results_csv_path=OUTPUT_FILE_CITING_PAPERS_WITH_PATHS)
    if not df_results.empty:
        summarize_download_status(df_results)
        verify_xml_file_existence(df_results)
