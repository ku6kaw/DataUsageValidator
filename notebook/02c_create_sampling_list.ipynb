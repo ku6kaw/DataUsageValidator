{
 "cells": [
  {
   "cell_type": "code",
   "execution_count": 1,
   "id": "52866881",
   "metadata": {},
   "outputs": [
    {
     "name": "stdout",
     "output_type": "stream",
     "text": [
      "XML取得に成功した 40720 件の論文からサンプリングを行います。\n",
      "\n",
      "サンプリング完了。\n",
      "アノテーション対象 200 件のリストを '../data/ground_truth\\annotation_target_list.csv' に保存しました。\n",
      "\n",
      "--- サンプルリストの先頭5件 ---\n",
      "          citing_paper_eid                 citing_paper_doi  \\\n",
      "81370   2-s2.0-85211640167  10.1016/j.marpolbul.2024.117442   \n",
      "10064   2-s2.0-85210281314   10.1016/j.jaridenv.2024.105282   \n",
      "39929   2-s2.0-85171680307   10.1016/j.revpalbo.2023.104989   \n",
      "101260  2-s2.0-85142708771     10.1016/j.foreco.2022.120653   \n",
      "68305   2-s2.0-85194770743    10.1016/j.jnucmat.2024.155194   \n",
      "\n",
      "                                       citing_paper_title  \\\n",
      "81370   Multi-indicator assessment of heavy metal poll...   \n",
      "10064   Potential effects of climate change on cacti d...   \n",
      "39929   Approaches to pollen taxonomic harmonisation i...   \n",
      "101260  Allometric equations to estimate the dry mass ...   \n",
      "68305   Microstructural evolution in doped high entrop...   \n",
      "\n",
      "                                   cited_data_paper_title  \n",
      "81370   Pollution load index for heavy metals in Mian-...  \n",
      "10064   The World Checklist of Vascular Plants, a cont...  \n",
      "39929   European pollen-based REVEALS land-cover recon...  \n",
      "101260  A global map of root biomass across the world'...  \n",
      "68305   Database on the mechanical properties of high ...  \n"
     ]
    }
   ],
   "source": [
    "import pandas as pd\n",
    "import os\n",
    "\n",
    "# --- 設定項目 ---\n",
    "# 論文リストが記録されたCSVファイル\n",
    "RESULTS_CSV_PATH = '../data/processed/citing_papers_with_paths.csv'\n",
    "# 出力先のディレクトリとファイル名\n",
    "OUTPUT_DIR = '../data/ground_truth'\n",
    "OUTPUT_FILE = os.path.join(OUTPUT_DIR, 'annotation_target_list.csv')\n",
    "# 抽出したいサンプル数\n",
    "SAMPLE_SIZE = 200\n",
    "\n",
    "# --- 1. データの読み込みとフィルタリング ---\n",
    "try:\n",
    "    df_results = pd.read_csv(RESULTS_CSV_PATH)\n",
    "    \n",
    "    # 本文XMLのダウンロードに成功した（cached含む）論文のみをサンプリングの母集団とする\n",
    "    df_success = df_results[\n",
    "        df_results['download_status'].str.startswith('success', na=False)\n",
    "    ].copy()\n",
    "    \n",
    "    print(f\"XML取得に成功した {len(df_success)} 件の論文からサンプリングを行います。\")\n",
    "\n",
    "except FileNotFoundError:\n",
    "    print(f\"エラー: '{RESULTS_CSV_PATH}' が見つかりません。\")\n",
    "    df_success = pd.DataFrame()\n",
    "\n",
    "# --- 2. 単純ランダムサンプリングの実行 ---\n",
    "if not df_success.empty and len(df_success) >= SAMPLE_SIZE:\n",
    "    # random_stateを指定することで、いつでも同じランダム結果を再現できます\n",
    "    sample_df = df_success.sample(n=SAMPLE_SIZE, random_state=42)\n",
    "    \n",
    "    # アノテーション作業で必要な列に絞って保存すると便利です\n",
    "    columns_to_save = [\n",
    "        'citing_paper_eid', \n",
    "        'citing_paper_doi', \n",
    "        'citing_paper_title',\n",
    "        'cited_data_paper_title' # どのデータ論文を引用しているかの確認用\n",
    "    ]\n",
    "    \n",
    "    # 出力先ディレクトリが存在しない場合は作成\n",
    "    os.makedirs(OUTPUT_DIR, exist_ok=True)\n",
    "    # サンプリング結果をCSVファイルとして保存\n",
    "    sample_df[columns_to_save].to_csv(OUTPUT_FILE, index=False, encoding='utf-8-sig')\n",
    "    \n",
    "    print(f\"\\nサンプリング完了。\")\n",
    "    print(f\"アノテーション対象 {SAMPLE_SIZE} 件のリストを '{OUTPUT_FILE}' に保存しました。\")\n",
    "    \n",
    "    print(\"\\n--- サンプルリストの先頭5件 ---\")\n",
    "    print(sample_df[columns_to_save].head())\n",
    "else:\n",
    "    print(f\"サンプリング対象となる、ダウンロードに成功した論文が{SAMPLE_SIZE}件未満です。\")"
   ]
  }
 ],
 "metadata": {
  "kernelspec": {
   "display_name": "DataUsageValidator",
   "language": "python",
   "name": "python3"
  },
  "language_info": {
   "codemirror_mode": {
    "name": "ipython",
    "version": 3
   },
   "file_extension": ".py",
   "mimetype": "text/x-python",
   "name": "python",
   "nbconvert_exporter": "python",
   "pygments_lexer": "ipython3",
   "version": "3.12.7"
  }
 },
 "nbformat": 4,
 "nbformat_minor": 5
}
