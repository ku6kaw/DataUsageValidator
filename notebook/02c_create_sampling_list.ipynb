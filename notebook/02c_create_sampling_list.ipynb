# アノテーション用サンプリングリストの作成

## 目的
このノートブックの目的は、ダウンロードに成功した引用論文の中から、アノテーション作業に使用するサンプルリストを作成することです。

## 達成状況
- `citing_papers_with_paths.csv` を読み込み、本文XMLのダウンロードに成功した論文のみを抽出しました。
- 抽出された論文の中から、指定された数の論文を単純ランダムサンプリングで選択しました。
- サンプリングされた論文の主要な情報（EID, DOI, タイトルなど）を `data/ground_truth/annotation_target_list.csv` に保存しました。

## 成果物
- `annotation_target_list.csv`: アノテーション作業の対象となる論文のリスト。

---

import pandas as pd
import os
import sys

# srcディレクトリをパスに追加
sys.path.append(os.path.abspath(os.path.join(os.getcwd(), '..')))

from src.sampling import create_annotation_sampling_list
from src.config import OUTPUT_FILE_CITING_PAPERS_WITH_PATHS

# --- 設定項目 ---
OUTPUT_DIR_GROUND_TRUTH = '../data/ground_truth'
OUTPUT_FILE_ANNOTATION_TARGET_LIST = 'annotation_target_list.csv'
SAMPLE_SIZE = 200 # 抽出したいサンプル数

# --- メイン処理 ---
if __name__ == "__main__":
    create_annotation_sampling_list(
        results_csv_path=OUTPUT_FILE_CITING_PAPERS_WITH_PATHS,
        output_dir=OUTPUT_DIR_GROUND_TRUTH,
        output_file_name=OUTPUT_FILE_ANNOTATION_TARGET_LIST,
        sample_size=SAMPLE_SIZE
    )
