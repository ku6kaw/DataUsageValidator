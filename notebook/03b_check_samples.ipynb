# 抽出済みサンプルの監査と照合

## 目的
このノートブックの目的は、`03a_extract_abstract_fulltext.ipynb` で抽出されたテキストデータ（`samples_with_text.csv`）の品質を監査し、元のサンプリングリスト（`annotation_target_list.csv`）との整合性を確認することです。

## 達成状況
- `samples_with_text.csv` を読み込み、データフレームの基本情報（データ型、非null値の数）と各列の欠損値の数を表示しました。
- `annotation_target_list.csv` と `samples_with_text.csv` の両方を読み込み、ユニークなDOIの数を比較しました。
- サンプリングリストには存在するが、テキスト抽出済みファイルには存在しない論文（DOI）を特定し、欠落している論文の詳細を報告しました。

## 成果物
- テキスト抽出済みデータの品質と整合性に関するレポート。
- 欠落しているサンプルやデータ品質の問題点の特定。

---

import pandas as pd
import os
import sys

# srcディレクトリをパスに追加
sys.path.append(os.path.abspath(os.path.join(os.getcwd(), '..')))

from src.sample_verification import audit_dataframe, compare_sample_lists
from src.config import OUTPUT_FILE_ANNOTATION_TARGET_LIST, OUTPUT_FILE_SAMPLES_WITH_TEXT

# --- メイン処理 ---
if __name__ == "__main__":
    # 1. テキスト抽出済みファイルの監査
    try:
        df_samples_with_text = pd.read_csv(OUTPUT_FILE_SAMPLES_WITH_TEXT)
        audit_dataframe(df_samples_with_text, os.path.basename(OUTPUT_FILE_SAMPLES_WITH_TEXT))
    except FileNotFoundError:
        print(f"エラー: '{OUTPUT_FILE_SAMPLES_WITH_TEXT}' が見つかりません。")
        df_samples_with_text = pd.DataFrame()
    except Exception as e:
        print(f"テキスト抽出済みファイルの読み込み中にエラーが発生しました: {e}")
        df_samples_with_text = pd.DataFrame()

    # 2. 2ファイルの照合
    try:
        df_annotation_targets = pd.read_csv(OUTPUT_FILE_ANNOTATION_TARGET_LIST)
    except FileNotFoundError:
        print(f"エラー: '{OUTPUT_FILE_ANNOTATION_TARGET_LIST}' が見つかりません。")
        df_annotation_targets = pd.DataFrame()
    except Exception as e:
        print(f"アノテーションリストの読み込み中にエラーが発生しました: {e}")
        df_annotation_targets = pd.DataFrame()

    compare_sample_lists(df_annotation_targets, df_samples_with_text)
