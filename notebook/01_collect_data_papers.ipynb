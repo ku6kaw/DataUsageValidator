# データ論文の収集

## 目的
このノートブックの目的は、あなたの研究の出発点となる**「データ論文」そのもののマスターリストを作成**することです。
「データ論文」とは、データセットを主たる成果物として報告する論文のことです。

## 達成状況
Scopus API に「DOCTYPE(dp)（データペーパー）」という条件で問い合わせを行い、ヒットした全データ論文の基本情報を収集しました。
収集した全情報は `data/processed/data_papers.csv` という CSV ファイルに保存済みです。

## 成果物
- `data_papers.csv`: 後続のすべての分析の基礎となる、データ論文の完全なリスト。

---

import sys
import os

# srcディレクトリをパスに追加
sys.path.append(os.path.abspath(os.path.join(os.getcwd(), '..')))

from src.collect_data import main

if __name__ == "__main__":
    main()
